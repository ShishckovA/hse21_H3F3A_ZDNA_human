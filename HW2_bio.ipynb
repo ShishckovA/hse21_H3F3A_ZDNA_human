{
  "nbformat": 4,
  "nbformat_minor": 0,
  "metadata": {
    "colab": {
      "name": "HW2-bio.ipynb",
      "provenance": [],
      "collapsed_sections": []
    },
    "kernelspec": {
      "name": "python3",
      "display_name": "Python 3"
    },
    "language_info": {
      "name": "python"
    },
    "widgets": {
      "application/vnd.jupyter.widget-state+json": {
        "6cc223a4791845d5958a2f3e2a84c984": {
          "model_module": "@jupyter-widgets/controls",
          "model_name": "HBoxModel",
          "model_module_version": "1.5.0",
          "state": {
            "_view_name": "HBoxView",
            "_dom_classes": [],
            "_model_name": "HBoxModel",
            "_view_module": "@jupyter-widgets/controls",
            "_model_module_version": "1.5.0",
            "_view_count": null,
            "_view_module_version": "1.5.0",
            "box_style": "",
            "layout": "IPY_MODEL_619bb38e7fb54d2095509c7b16dd9986",
            "_model_module": "@jupyter-widgets/controls",
            "children": [
              "IPY_MODEL_9afd17ecb09643dc97676056b91d8419",
              "IPY_MODEL_1ab71ca0d41c478a8a1f8f8281fa291b",
              "IPY_MODEL_8ed893c1a1d34b49bb4d0f72ec2210f0"
            ]
          }
        },
        "619bb38e7fb54d2095509c7b16dd9986": {
          "model_module": "@jupyter-widgets/base",
          "model_name": "LayoutModel",
          "model_module_version": "1.2.0",
          "state": {
            "_view_name": "LayoutView",
            "grid_template_rows": null,
            "right": null,
            "justify_content": null,
            "_view_module": "@jupyter-widgets/base",
            "overflow": null,
            "_model_module_version": "1.2.0",
            "_view_count": null,
            "flex_flow": null,
            "width": null,
            "min_width": null,
            "border": null,
            "align_items": null,
            "bottom": null,
            "_model_module": "@jupyter-widgets/base",
            "top": null,
            "grid_column": null,
            "overflow_y": null,
            "overflow_x": null,
            "grid_auto_flow": null,
            "grid_area": null,
            "grid_template_columns": null,
            "flex": null,
            "_model_name": "LayoutModel",
            "justify_items": null,
            "grid_row": null,
            "max_height": null,
            "align_content": null,
            "visibility": null,
            "align_self": null,
            "height": null,
            "min_height": null,
            "padding": null,
            "grid_auto_rows": null,
            "grid_gap": null,
            "max_width": null,
            "order": null,
            "_view_module_version": "1.2.0",
            "grid_template_areas": null,
            "object_position": null,
            "object_fit": null,
            "grid_auto_columns": null,
            "margin": null,
            "display": null,
            "left": null
          }
        },
        "9afd17ecb09643dc97676056b91d8419": {
          "model_module": "@jupyter-widgets/controls",
          "model_name": "HTMLModel",
          "model_module_version": "1.5.0",
          "state": {
            "_view_name": "HTMLView",
            "style": "IPY_MODEL_e86101f0cd6f4d06b85a103a2a44552c",
            "_dom_classes": [],
            "description": "",
            "_model_name": "HTMLModel",
            "placeholder": "​",
            "_view_module": "@jupyter-widgets/controls",
            "_model_module_version": "1.5.0",
            "value": "100%",
            "_view_count": null,
            "_view_module_version": "1.5.0",
            "description_tooltip": null,
            "_model_module": "@jupyter-widgets/controls",
            "layout": "IPY_MODEL_dc91c1ff513a455eb14200a670026ec8"
          }
        },
        "1ab71ca0d41c478a8a1f8f8281fa291b": {
          "model_module": "@jupyter-widgets/controls",
          "model_name": "FloatProgressModel",
          "model_module_version": "1.5.0",
          "state": {
            "_view_name": "ProgressView",
            "style": "IPY_MODEL_5a8ae50394d64f79a636eb0947c19370",
            "_dom_classes": [],
            "description": "",
            "_model_name": "FloatProgressModel",
            "bar_style": "success",
            "max": 55090,
            "_view_module": "@jupyter-widgets/controls",
            "_model_module_version": "1.5.0",
            "value": 55090,
            "_view_count": null,
            "_view_module_version": "1.5.0",
            "orientation": "horizontal",
            "min": 0,
            "description_tooltip": null,
            "_model_module": "@jupyter-widgets/controls",
            "layout": "IPY_MODEL_9c559d2b15a8454780caf3482319774b"
          }
        },
        "8ed893c1a1d34b49bb4d0f72ec2210f0": {
          "model_module": "@jupyter-widgets/controls",
          "model_name": "HTMLModel",
          "model_module_version": "1.5.0",
          "state": {
            "_view_name": "HTMLView",
            "style": "IPY_MODEL_fbf909bcdfec4c0bb59892d43ece3884",
            "_dom_classes": [],
            "description": "",
            "_model_name": "HTMLModel",
            "placeholder": "​",
            "_view_module": "@jupyter-widgets/controls",
            "_model_module_version": "1.5.0",
            "value": " 55090/55090 [01:16&lt;00:00, 747.05it/s]",
            "_view_count": null,
            "_view_module_version": "1.5.0",
            "description_tooltip": null,
            "_model_module": "@jupyter-widgets/controls",
            "layout": "IPY_MODEL_607fba059a1f47178c9d8e1ecc4987c0"
          }
        },
        "e86101f0cd6f4d06b85a103a2a44552c": {
          "model_module": "@jupyter-widgets/controls",
          "model_name": "DescriptionStyleModel",
          "model_module_version": "1.5.0",
          "state": {
            "_view_name": "StyleView",
            "_model_name": "DescriptionStyleModel",
            "description_width": "",
            "_view_module": "@jupyter-widgets/base",
            "_model_module_version": "1.5.0",
            "_view_count": null,
            "_view_module_version": "1.2.0",
            "_model_module": "@jupyter-widgets/controls"
          }
        },
        "dc91c1ff513a455eb14200a670026ec8": {
          "model_module": "@jupyter-widgets/base",
          "model_name": "LayoutModel",
          "model_module_version": "1.2.0",
          "state": {
            "_view_name": "LayoutView",
            "grid_template_rows": null,
            "right": null,
            "justify_content": null,
            "_view_module": "@jupyter-widgets/base",
            "overflow": null,
            "_model_module_version": "1.2.0",
            "_view_count": null,
            "flex_flow": null,
            "width": null,
            "min_width": null,
            "border": null,
            "align_items": null,
            "bottom": null,
            "_model_module": "@jupyter-widgets/base",
            "top": null,
            "grid_column": null,
            "overflow_y": null,
            "overflow_x": null,
            "grid_auto_flow": null,
            "grid_area": null,
            "grid_template_columns": null,
            "flex": null,
            "_model_name": "LayoutModel",
            "justify_items": null,
            "grid_row": null,
            "max_height": null,
            "align_content": null,
            "visibility": null,
            "align_self": null,
            "height": null,
            "min_height": null,
            "padding": null,
            "grid_auto_rows": null,
            "grid_gap": null,
            "max_width": null,
            "order": null,
            "_view_module_version": "1.2.0",
            "grid_template_areas": null,
            "object_position": null,
            "object_fit": null,
            "grid_auto_columns": null,
            "margin": null,
            "display": null,
            "left": null
          }
        },
        "5a8ae50394d64f79a636eb0947c19370": {
          "model_module": "@jupyter-widgets/controls",
          "model_name": "ProgressStyleModel",
          "model_module_version": "1.5.0",
          "state": {
            "_view_name": "StyleView",
            "_model_name": "ProgressStyleModel",
            "description_width": "",
            "_view_module": "@jupyter-widgets/base",
            "_model_module_version": "1.5.0",
            "_view_count": null,
            "_view_module_version": "1.2.0",
            "bar_color": null,
            "_model_module": "@jupyter-widgets/controls"
          }
        },
        "9c559d2b15a8454780caf3482319774b": {
          "model_module": "@jupyter-widgets/base",
          "model_name": "LayoutModel",
          "model_module_version": "1.2.0",
          "state": {
            "_view_name": "LayoutView",
            "grid_template_rows": null,
            "right": null,
            "justify_content": null,
            "_view_module": "@jupyter-widgets/base",
            "overflow": null,
            "_model_module_version": "1.2.0",
            "_view_count": null,
            "flex_flow": null,
            "width": null,
            "min_width": null,
            "border": null,
            "align_items": null,
            "bottom": null,
            "_model_module": "@jupyter-widgets/base",
            "top": null,
            "grid_column": null,
            "overflow_y": null,
            "overflow_x": null,
            "grid_auto_flow": null,
            "grid_area": null,
            "grid_template_columns": null,
            "flex": null,
            "_model_name": "LayoutModel",
            "justify_items": null,
            "grid_row": null,
            "max_height": null,
            "align_content": null,
            "visibility": null,
            "align_self": null,
            "height": null,
            "min_height": null,
            "padding": null,
            "grid_auto_rows": null,
            "grid_gap": null,
            "max_width": null,
            "order": null,
            "_view_module_version": "1.2.0",
            "grid_template_areas": null,
            "object_position": null,
            "object_fit": null,
            "grid_auto_columns": null,
            "margin": null,
            "display": null,
            "left": null
          }
        },
        "fbf909bcdfec4c0bb59892d43ece3884": {
          "model_module": "@jupyter-widgets/controls",
          "model_name": "DescriptionStyleModel",
          "model_module_version": "1.5.0",
          "state": {
            "_view_name": "StyleView",
            "_model_name": "DescriptionStyleModel",
            "description_width": "",
            "_view_module": "@jupyter-widgets/base",
            "_model_module_version": "1.5.0",
            "_view_count": null,
            "_view_module_version": "1.2.0",
            "_model_module": "@jupyter-widgets/controls"
          }
        },
        "607fba059a1f47178c9d8e1ecc4987c0": {
          "model_module": "@jupyter-widgets/base",
          "model_name": "LayoutModel",
          "model_module_version": "1.2.0",
          "state": {
            "_view_name": "LayoutView",
            "grid_template_rows": null,
            "right": null,
            "justify_content": null,
            "_view_module": "@jupyter-widgets/base",
            "overflow": null,
            "_model_module_version": "1.2.0",
            "_view_count": null,
            "flex_flow": null,
            "width": null,
            "min_width": null,
            "border": null,
            "align_items": null,
            "bottom": null,
            "_model_module": "@jupyter-widgets/base",
            "top": null,
            "grid_column": null,
            "overflow_y": null,
            "overflow_x": null,
            "grid_auto_flow": null,
            "grid_area": null,
            "grid_template_columns": null,
            "flex": null,
            "_model_name": "LayoutModel",
            "justify_items": null,
            "grid_row": null,
            "max_height": null,
            "align_content": null,
            "visibility": null,
            "align_self": null,
            "height": null,
            "min_height": null,
            "padding": null,
            "grid_auto_rows": null,
            "grid_gap": null,
            "max_width": null,
            "order": null,
            "_view_module_version": "1.2.0",
            "grid_template_areas": null,
            "object_position": null,
            "object_fit": null,
            "grid_auto_columns": null,
            "margin": null,
            "display": null,
            "left": null
          }
        },
        "2543b73a38da48a783f5121e7ba002a0": {
          "model_module": "@jupyter-widgets/controls",
          "model_name": "HBoxModel",
          "model_module_version": "1.5.0",
          "state": {
            "_view_name": "HBoxView",
            "_dom_classes": [],
            "_model_name": "HBoxModel",
            "_view_module": "@jupyter-widgets/controls",
            "_model_module_version": "1.5.0",
            "_view_count": null,
            "_view_module_version": "1.5.0",
            "box_style": "",
            "layout": "IPY_MODEL_761b0301435e41c88d60153a2083fc58",
            "_model_module": "@jupyter-widgets/controls",
            "children": [
              "IPY_MODEL_5f6e25948aae4e4c9fbadcef819d28f5",
              "IPY_MODEL_9ec3aa9fa3cf488bbe349ddddda9e7a9",
              "IPY_MODEL_99e0117c314640d8aec6bcbc3f7ba30b"
            ]
          }
        },
        "761b0301435e41c88d60153a2083fc58": {
          "model_module": "@jupyter-widgets/base",
          "model_name": "LayoutModel",
          "model_module_version": "1.2.0",
          "state": {
            "_view_name": "LayoutView",
            "grid_template_rows": null,
            "right": null,
            "justify_content": null,
            "_view_module": "@jupyter-widgets/base",
            "overflow": null,
            "_model_module_version": "1.2.0",
            "_view_count": null,
            "flex_flow": null,
            "width": null,
            "min_width": null,
            "border": null,
            "align_items": null,
            "bottom": null,
            "_model_module": "@jupyter-widgets/base",
            "top": null,
            "grid_column": null,
            "overflow_y": null,
            "overflow_x": null,
            "grid_auto_flow": null,
            "grid_area": null,
            "grid_template_columns": null,
            "flex": null,
            "_model_name": "LayoutModel",
            "justify_items": null,
            "grid_row": null,
            "max_height": null,
            "align_content": null,
            "visibility": null,
            "align_self": null,
            "height": null,
            "min_height": null,
            "padding": null,
            "grid_auto_rows": null,
            "grid_gap": null,
            "max_width": null,
            "order": null,
            "_view_module_version": "1.2.0",
            "grid_template_areas": null,
            "object_position": null,
            "object_fit": null,
            "grid_auto_columns": null,
            "margin": null,
            "display": null,
            "left": null
          }
        },
        "5f6e25948aae4e4c9fbadcef819d28f5": {
          "model_module": "@jupyter-widgets/controls",
          "model_name": "HTMLModel",
          "model_module_version": "1.5.0",
          "state": {
            "_view_name": "HTMLView",
            "style": "IPY_MODEL_5ea2d35180884a43b30e8cb04537c3de",
            "_dom_classes": [],
            "description": "",
            "_model_name": "HTMLModel",
            "placeholder": "​",
            "_view_module": "@jupyter-widgets/controls",
            "_model_module_version": "1.5.0",
            "value": "100%",
            "_view_count": null,
            "_view_module_version": "1.5.0",
            "description_tooltip": null,
            "_model_module": "@jupyter-widgets/controls",
            "layout": "IPY_MODEL_92a2fa6b150847f0be82f2ea60af67b7"
          }
        },
        "9ec3aa9fa3cf488bbe349ddddda9e7a9": {
          "model_module": "@jupyter-widgets/controls",
          "model_name": "FloatProgressModel",
          "model_module_version": "1.5.0",
          "state": {
            "_view_name": "ProgressView",
            "style": "IPY_MODEL_9e8c86e5327f4c54a124d15ef7111888",
            "_dom_classes": [],
            "description": "",
            "_model_name": "FloatProgressModel",
            "bar_style": "success",
            "max": 66108,
            "_view_module": "@jupyter-widgets/controls",
            "_model_module_version": "1.5.0",
            "value": 66108,
            "_view_count": null,
            "_view_module_version": "1.5.0",
            "orientation": "horizontal",
            "min": 0,
            "description_tooltip": null,
            "_model_module": "@jupyter-widgets/controls",
            "layout": "IPY_MODEL_3b674256679c4508bc3bd841a39fb704"
          }
        },
        "99e0117c314640d8aec6bcbc3f7ba30b": {
          "model_module": "@jupyter-widgets/controls",
          "model_name": "HTMLModel",
          "model_module_version": "1.5.0",
          "state": {
            "_view_name": "HTMLView",
            "style": "IPY_MODEL_5651308b12bf40238f4453f915d239af",
            "_dom_classes": [],
            "description": "",
            "_model_name": "HTMLModel",
            "placeholder": "​",
            "_view_module": "@jupyter-widgets/controls",
            "_model_module_version": "1.5.0",
            "value": " 66108/66108 [02:58&lt;00:00, 387.19it/s]",
            "_view_count": null,
            "_view_module_version": "1.5.0",
            "description_tooltip": null,
            "_model_module": "@jupyter-widgets/controls",
            "layout": "IPY_MODEL_478d98ff27e241288bbc7a2f09a82240"
          }
        },
        "5ea2d35180884a43b30e8cb04537c3de": {
          "model_module": "@jupyter-widgets/controls",
          "model_name": "DescriptionStyleModel",
          "model_module_version": "1.5.0",
          "state": {
            "_view_name": "StyleView",
            "_model_name": "DescriptionStyleModel",
            "description_width": "",
            "_view_module": "@jupyter-widgets/base",
            "_model_module_version": "1.5.0",
            "_view_count": null,
            "_view_module_version": "1.2.0",
            "_model_module": "@jupyter-widgets/controls"
          }
        },
        "92a2fa6b150847f0be82f2ea60af67b7": {
          "model_module": "@jupyter-widgets/base",
          "model_name": "LayoutModel",
          "model_module_version": "1.2.0",
          "state": {
            "_view_name": "LayoutView",
            "grid_template_rows": null,
            "right": null,
            "justify_content": null,
            "_view_module": "@jupyter-widgets/base",
            "overflow": null,
            "_model_module_version": "1.2.0",
            "_view_count": null,
            "flex_flow": null,
            "width": null,
            "min_width": null,
            "border": null,
            "align_items": null,
            "bottom": null,
            "_model_module": "@jupyter-widgets/base",
            "top": null,
            "grid_column": null,
            "overflow_y": null,
            "overflow_x": null,
            "grid_auto_flow": null,
            "grid_area": null,
            "grid_template_columns": null,
            "flex": null,
            "_model_name": "LayoutModel",
            "justify_items": null,
            "grid_row": null,
            "max_height": null,
            "align_content": null,
            "visibility": null,
            "align_self": null,
            "height": null,
            "min_height": null,
            "padding": null,
            "grid_auto_rows": null,
            "grid_gap": null,
            "max_width": null,
            "order": null,
            "_view_module_version": "1.2.0",
            "grid_template_areas": null,
            "object_position": null,
            "object_fit": null,
            "grid_auto_columns": null,
            "margin": null,
            "display": null,
            "left": null
          }
        },
        "9e8c86e5327f4c54a124d15ef7111888": {
          "model_module": "@jupyter-widgets/controls",
          "model_name": "ProgressStyleModel",
          "model_module_version": "1.5.0",
          "state": {
            "_view_name": "StyleView",
            "_model_name": "ProgressStyleModel",
            "description_width": "",
            "_view_module": "@jupyter-widgets/base",
            "_model_module_version": "1.5.0",
            "_view_count": null,
            "_view_module_version": "1.2.0",
            "bar_color": null,
            "_model_module": "@jupyter-widgets/controls"
          }
        },
        "3b674256679c4508bc3bd841a39fb704": {
          "model_module": "@jupyter-widgets/base",
          "model_name": "LayoutModel",
          "model_module_version": "1.2.0",
          "state": {
            "_view_name": "LayoutView",
            "grid_template_rows": null,
            "right": null,
            "justify_content": null,
            "_view_module": "@jupyter-widgets/base",
            "overflow": null,
            "_model_module_version": "1.2.0",
            "_view_count": null,
            "flex_flow": null,
            "width": null,
            "min_width": null,
            "border": null,
            "align_items": null,
            "bottom": null,
            "_model_module": "@jupyter-widgets/base",
            "top": null,
            "grid_column": null,
            "overflow_y": null,
            "overflow_x": null,
            "grid_auto_flow": null,
            "grid_area": null,
            "grid_template_columns": null,
            "flex": null,
            "_model_name": "LayoutModel",
            "justify_items": null,
            "grid_row": null,
            "max_height": null,
            "align_content": null,
            "visibility": null,
            "align_self": null,
            "height": null,
            "min_height": null,
            "padding": null,
            "grid_auto_rows": null,
            "grid_gap": null,
            "max_width": null,
            "order": null,
            "_view_module_version": "1.2.0",
            "grid_template_areas": null,
            "object_position": null,
            "object_fit": null,
            "grid_auto_columns": null,
            "margin": null,
            "display": null,
            "left": null
          }
        },
        "5651308b12bf40238f4453f915d239af": {
          "model_module": "@jupyter-widgets/controls",
          "model_name": "DescriptionStyleModel",
          "model_module_version": "1.5.0",
          "state": {
            "_view_name": "StyleView",
            "_model_name": "DescriptionStyleModel",
            "description_width": "",
            "_view_module": "@jupyter-widgets/base",
            "_model_module_version": "1.5.0",
            "_view_count": null,
            "_view_module_version": "1.2.0",
            "_model_module": "@jupyter-widgets/controls"
          }
        },
        "478d98ff27e241288bbc7a2f09a82240": {
          "model_module": "@jupyter-widgets/base",
          "model_name": "LayoutModel",
          "model_module_version": "1.2.0",
          "state": {
            "_view_name": "LayoutView",
            "grid_template_rows": null,
            "right": null,
            "justify_content": null,
            "_view_module": "@jupyter-widgets/base",
            "overflow": null,
            "_model_module_version": "1.2.0",
            "_view_count": null,
            "flex_flow": null,
            "width": null,
            "min_width": null,
            "border": null,
            "align_items": null,
            "bottom": null,
            "_model_module": "@jupyter-widgets/base",
            "top": null,
            "grid_column": null,
            "overflow_y": null,
            "overflow_x": null,
            "grid_auto_flow": null,
            "grid_area": null,
            "grid_template_columns": null,
            "flex": null,
            "_model_name": "LayoutModel",
            "justify_items": null,
            "grid_row": null,
            "max_height": null,
            "align_content": null,
            "visibility": null,
            "align_self": null,
            "height": null,
            "min_height": null,
            "padding": null,
            "grid_auto_rows": null,
            "grid_gap": null,
            "max_width": null,
            "order": null,
            "_view_module_version": "1.2.0",
            "grid_template_areas": null,
            "object_position": null,
            "object_fit": null,
            "grid_auto_columns": null,
            "margin": null,
            "display": null,
            "left": null
          }
        }
      }
    },
    "accelerator": "GPU"
  },
  "cells": [
    {
      "cell_type": "markdown",
      "metadata": {
        "id": "jkfZu9vQd0UD"
      },
      "source": [
        "# Определение ZDNA с помощью CNN"
      ]
    },
    {
      "cell_type": "markdown",
      "metadata": {
        "id": "6gUYd1did81I"
      },
      "source": [
        "Импортируем нужные библиотеки"
      ]
    },
    {
      "cell_type": "code",
      "metadata": {
        "id": "justhNCYwFAU"
      },
      "source": [
        "import torch\n",
        "from torch import nn\n",
        "import pandas as pd"
      ],
      "execution_count": 1,
      "outputs": []
    },
    {
      "cell_type": "markdown",
      "metadata": {
        "id": "gPB0P1tbeBz6"
      },
      "source": [
        "Скачиваем данные:\n",
        "1. Участки, полученные мной в ДЗ-1\n",
        "2. ZDNA -- объединённые участки ZDNA (z-hunt и deep-z)\n",
        "3. Последовательность ДНК всех хромосом\n",
        "\n",
        "Данные скачиваем, архив с ДНК распаковываем."
      ]
    },
    {
      "cell_type": "code",
      "metadata": {
        "colab": {
          "base_uri": "https://localhost:8080/"
        },
        "id": "_uOj62AZxa_W",
        "outputId": "a283444a-0e5e-4773-9e4f-6341d2c5cb36"
      },
      "source": [
        "!wget https://raw.githubusercontent.com/ShishckovA/hse21_H3F3A_ZDNA_human/master/data/H3F3A_hg19-intersect_with_ZDNA.bed -O H3F3A_ZDNA.bed\n",
        "!wget https://raw.githubusercontent.com/ShishckovA/hse21_H3F3A_ZDNA_human/master/data/ZDNA-merge.bed -O ZDNA.bed\n",
        "!wget https://hgdownload.soe.ucsc.edu/goldenPath/hg19/bigZips/chromFa.tar.gz\n",
        "\n",
        "!mkdir chromFA\n",
        "!tar -zxvf chromFa.tar.gz -C chromFA"
      ],
      "execution_count": 2,
      "outputs": [
        {
          "output_type": "stream",
          "name": "stdout",
          "text": [
            "--2021-12-01 20:25:09--  https://raw.githubusercontent.com/ShishckovA/hse21_H3F3A_ZDNA_human/master/data/H3F3A_hg19-intersect_with_ZDNA.bed\n",
            "Resolving raw.githubusercontent.com (raw.githubusercontent.com)... 185.199.110.133, 185.199.108.133, 185.199.109.133, ...\n",
            "Connecting to raw.githubusercontent.com (raw.githubusercontent.com)|185.199.110.133|:443... connected.\n",
            "HTTP request sent, awaiting response... 200 OK\n",
            "Length: 263500 (257K) [text/plain]\n",
            "Saving to: ‘H3F3A_ZDNA.bed’\n",
            "\n",
            "\rH3F3A_ZDNA.bed        0%[                    ]       0  --.-KB/s               \rH3F3A_ZDNA.bed      100%[===================>] 257.32K  --.-KB/s    in 0.03s   \n",
            "\n",
            "2021-12-01 20:25:09 (8.39 MB/s) - ‘H3F3A_ZDNA.bed’ saved [263500/263500]\n",
            "\n",
            "--2021-12-01 20:25:09--  https://raw.githubusercontent.com/ShishckovA/hse21_H3F3A_ZDNA_human/master/data/ZDNA-merge.bed\n",
            "Resolving raw.githubusercontent.com (raw.githubusercontent.com)... 185.199.109.133, 185.199.111.133, 185.199.110.133, ...\n",
            "Connecting to raw.githubusercontent.com (raw.githubusercontent.com)|185.199.109.133|:443... connected.\n",
            "HTTP request sent, awaiting response... 200 OK\n",
            "Length: 10171497 (9.7M) [text/plain]\n",
            "Saving to: ‘ZDNA.bed’\n",
            "\n",
            "ZDNA.bed            100%[===================>]   9.70M  --.-KB/s    in 0.1s    \n",
            "\n",
            "2021-12-01 20:25:09 (81.1 MB/s) - ‘ZDNA.bed’ saved [10171497/10171497]\n",
            "\n",
            "--2021-12-01 20:25:09--  https://hgdownload.soe.ucsc.edu/goldenPath/hg19/bigZips/chromFa.tar.gz\n",
            "Resolving hgdownload.soe.ucsc.edu (hgdownload.soe.ucsc.edu)... 128.114.119.163\n",
            "Connecting to hgdownload.soe.ucsc.edu (hgdownload.soe.ucsc.edu)|128.114.119.163|:443... connected.\n",
            "HTTP request sent, awaiting response... 200 OK\n",
            "Length: 948736151 (905M) [application/x-gzip]\n",
            "Saving to: ‘chromFa.tar.gz’\n",
            "\n",
            "chromFa.tar.gz      100%[===================>] 904.79M  48.6MB/s    in 19s     \n",
            "\n",
            "2021-12-01 20:25:29 (47.5 MB/s) - ‘chromFa.tar.gz’ saved [948736151/948736151]\n",
            "\n",
            "chr1.fa\n",
            "chr10.fa\n",
            "chr11.fa\n",
            "chr11_gl000202_random.fa\n",
            "chr12.fa\n",
            "chr13.fa\n",
            "chr14.fa\n",
            "chr15.fa\n",
            "chr16.fa\n",
            "chr17.fa\n",
            "chr17_ctg5_hap1.fa\n",
            "chr17_gl000203_random.fa\n",
            "chr17_gl000204_random.fa\n",
            "chr17_gl000205_random.fa\n",
            "chr17_gl000206_random.fa\n",
            "chr18.fa\n",
            "chr18_gl000207_random.fa\n",
            "chr19.fa\n",
            "chr19_gl000208_random.fa\n",
            "chr19_gl000209_random.fa\n",
            "chr1_gl000191_random.fa\n",
            "chr1_gl000192_random.fa\n",
            "chr2.fa\n",
            "chr20.fa\n",
            "chr21.fa\n",
            "chr21_gl000210_random.fa\n",
            "chr22.fa\n",
            "chr3.fa\n",
            "chr4.fa\n",
            "chr4_ctg9_hap1.fa\n",
            "chr4_gl000193_random.fa\n",
            "chr4_gl000194_random.fa\n",
            "chr5.fa\n",
            "chr6.fa\n",
            "chr6_apd_hap1.fa\n",
            "chr6_cox_hap2.fa\n",
            "chr6_dbb_hap3.fa\n",
            "chr6_mann_hap4.fa\n",
            "chr6_mcf_hap5.fa\n",
            "chr6_qbl_hap6.fa\n",
            "chr6_ssto_hap7.fa\n",
            "chr7.fa\n",
            "chr7_gl000195_random.fa\n",
            "chr8.fa\n",
            "chr8_gl000196_random.fa\n",
            "chr8_gl000197_random.fa\n",
            "chr9.fa\n",
            "chr9_gl000198_random.fa\n",
            "chr9_gl000199_random.fa\n",
            "chr9_gl000200_random.fa\n",
            "chr9_gl000201_random.fa\n",
            "chrM.fa\n",
            "chrUn_gl000211.fa\n",
            "chrUn_gl000212.fa\n",
            "chrUn_gl000213.fa\n",
            "chrUn_gl000214.fa\n",
            "chrUn_gl000215.fa\n",
            "chrUn_gl000216.fa\n",
            "chrUn_gl000217.fa\n",
            "chrUn_gl000218.fa\n",
            "chrUn_gl000219.fa\n",
            "chrUn_gl000220.fa\n",
            "chrUn_gl000221.fa\n",
            "chrUn_gl000222.fa\n",
            "chrUn_gl000223.fa\n",
            "chrUn_gl000224.fa\n",
            "chrUn_gl000225.fa\n",
            "chrUn_gl000226.fa\n",
            "chrUn_gl000227.fa\n",
            "chrUn_gl000228.fa\n",
            "chrUn_gl000229.fa\n",
            "chrUn_gl000230.fa\n",
            "chrUn_gl000231.fa\n",
            "chrUn_gl000232.fa\n",
            "chrUn_gl000233.fa\n",
            "chrUn_gl000234.fa\n",
            "chrUn_gl000235.fa\n",
            "chrUn_gl000236.fa\n",
            "chrUn_gl000237.fa\n",
            "chrUn_gl000238.fa\n",
            "chrUn_gl000239.fa\n",
            "chrUn_gl000240.fa\n",
            "chrUn_gl000241.fa\n",
            "chrUn_gl000242.fa\n",
            "chrUn_gl000243.fa\n",
            "chrUn_gl000244.fa\n",
            "chrUn_gl000245.fa\n",
            "chrUn_gl000246.fa\n",
            "chrUn_gl000247.fa\n",
            "chrUn_gl000248.fa\n",
            "chrUn_gl000249.fa\n",
            "chrX.fa\n",
            "chrY.fa\n"
          ]
        }
      ]
    },
    {
      "cell_type": "code",
      "metadata": {
        "colab": {
          "base_uri": "https://localhost:8080/"
        },
        "id": "cF8jqsNJvNzt",
        "outputId": "7273f309-68ac-42f7-f090-6576e4a5e20d"
      },
      "source": [
        "!tail chromFA/chrX.fa"
      ],
      "execution_count": 3,
      "outputs": [
        {
          "output_type": "stream",
          "name": "stdout",
          "text": [
            "NNNNNNNNNNNNNNNNNNNNNNNNNNNNNNNNNNNNNNNNNNNNNNNNNN\n",
            "NNNNNNNNNNNNNNNNNNNNNNNNNNNNNNNNNNNNNNNNNNNNNNNNNN\n",
            "NNNNNNNNNNNNNNNNNNNNNNNNNNNNNNNNNNNNNNNNNNNNNNNNNN\n",
            "NNNNNNNNNNNNNNNNNNNNNNNNNNNNNNNNNNNNNNNNNNNNNNNNNN\n",
            "NNNNNNNNNNNNNNNNNNNNNNNNNNNNNNNNNNNNNNNNNNNNNNNNNN\n",
            "NNNNNNNNNNNNNNNNNNNNNNNNNNNNNNNNNNNNNNNNNNNNNNNNNN\n",
            "NNNNNNNNNNNNNNNNNNNNNNNNNNNNNNNNNNNNNNNNNNNNNNNNNN\n",
            "NNNNNNNNNNNNNNNNNNNNNNNNNNNNNNNNNNNNNNNNNNNNNNNNNN\n",
            "NNNNNNNNNNNNNNNNNNNNNNNNNNNNNNNNNNNNNNNNNNNNNNNNNN\n",
            "NNNNNNNNNN\n"
          ]
        }
      ]
    },
    {
      "cell_type": "markdown",
      "metadata": {
        "id": "7ykn15qOerip"
      },
      "source": [
        "Чтобы удобнее было работать с моими участками и участками ZDNA, создалим Dataframe-ы. Для всех хромосом загрузим их код в словарь data."
      ]
    },
    {
      "cell_type": "code",
      "metadata": {
        "id": "CyG8NuJvxoOc",
        "colab": {
          "base_uri": "https://localhost:8080/",
          "height": 35
        },
        "outputId": "ce1b8c7d-f810-45ba-bd10-094465fec1bb"
      },
      "source": [
        "df = pd.read_csv(\"H3F3A_ZDNA.bed\", header=None, sep=\"\\t\", names=[\"chr\", \"begin\", \"end\"])\n",
        "df_ZDNA = pd.read_csv(\"ZDNA.bed\", header=None, sep=\"\\t\", names=[\"chr\", \"begin\", \"end\"])\n",
        "\n",
        "data = {}\n",
        "\n",
        "for i in list(range(1, 23)) + [\"X\"]:\n",
        "    file_name = f\"chr{i}\"\n",
        "    with open(f\"chromFA/{file_name}.fa\") as f:\n",
        "        data[file_name] =  \"\".join(f.read().split()[1:]).upper()\n",
        "\n",
        "data[\"chr1\"][15000000:15000020]"
      ],
      "execution_count": 4,
      "outputs": [
        {
          "output_type": "execute_result",
          "data": {
            "application/vnd.google.colaboratory.intrinsic+json": {
              "type": "string"
            },
            "text/plain": [
              "'CTGAAATTCAGAACGTCAGG'"
            ]
          },
          "metadata": {},
          "execution_count": 4
        }
      ]
    },
    {
      "cell_type": "markdown",
      "metadata": {
        "id": "oiYOzq3vfQpa"
      },
      "source": [
        "Создадим данные про положительный класс --- возьмём все участки, полученные мной, которые состоят из A, T, G, C. "
      ]
    },
    {
      "cell_type": "code",
      "metadata": {
        "id": "qxbZQJSy2wGu",
        "colab": {
          "base_uri": "https://localhost:8080/"
        },
        "outputId": "939f68c7-1a57-4c39-a0a2-ec40a6a1169e"
      },
      "source": [
        "pos = []\n",
        "\n",
        "LEN = 1000\n",
        "\n",
        "for chr, beg, end in df.values:\n",
        "    mid = (end + beg) // 2\n",
        "    start = end - LEN // 2\n",
        "    end = end + LEN // 2\n",
        "    if \"N\" not in data[chr][start:end]:\n",
        "        pos.append(data[chr][start:end])\n",
        "\n",
        "print(len(pos))"
      ],
      "execution_count": 5,
      "outputs": [
        {
          "output_type": "stream",
          "name": "stdout",
          "text": [
            "11018\n"
          ]
        }
      ]
    },
    {
      "cell_type": "markdown",
      "metadata": {
        "id": "OwSmuHeOfSn0"
      },
      "source": [
        "А также отрицательный класс. Вырежем центральные 9/10 из каждой хромосомы и выберем случайные участки, которые не пересекаются с данными ZDNA (а значит и с моими данными). Отрицательного класса возьмём в 5 раз больше, чем положительного, так как отрицательного класса в целом больше, чем положительного."
      ]
    },
    {
      "cell_type": "code",
      "metadata": {
        "colab": {
          "base_uri": "https://localhost:8080/",
          "height": 49,
          "referenced_widgets": [
            "6cc223a4791845d5958a2f3e2a84c984",
            "619bb38e7fb54d2095509c7b16dd9986",
            "9afd17ecb09643dc97676056b91d8419",
            "1ab71ca0d41c478a8a1f8f8281fa291b",
            "8ed893c1a1d34b49bb4d0f72ec2210f0",
            "e86101f0cd6f4d06b85a103a2a44552c",
            "dc91c1ff513a455eb14200a670026ec8",
            "5a8ae50394d64f79a636eb0947c19370",
            "9c559d2b15a8454780caf3482319774b",
            "fbf909bcdfec4c0bb59892d43ece3884",
            "607fba059a1f47178c9d8e1ecc4987c0"
          ]
        },
        "id": "GTzqWseDPmB3",
        "outputId": "00becca0-59bc-4ba2-e5b7-a73c37c257ba"
      },
      "source": [
        "import random, tqdm.notebook\n",
        "random.seed(42)\n",
        "\n",
        "df_by_chr = {\n",
        "    chr: df_ZDNA[df_ZDNA[\"chr\"] == chr] \n",
        "    for chr in data\n",
        "}\n",
        "\n",
        "def segment_ok(chr, l, r):\n",
        "    have = (df_by_chr[chr][\"end\"] > l) & (r > df_by_chr[chr][\"begin\"])\n",
        "    return not have.any()\n",
        "\n",
        "def gen_part():\n",
        "    chr = random.choice(list(data.keys()))\n",
        "    ln = len(data[chr])\n",
        "    cut_part = 1 / 10\n",
        "    m = random.randint(int(ln * (cut_part / 2)), int(ln * (1 - cut_part / 2)))\n",
        "    l = m - LEN // 2\n",
        "    r = m + LEN // 2\n",
        "    return chr, l, r\n",
        "\n",
        "neg = []\n",
        "N_neg = len(pos) * 5\n",
        "\n",
        "for i in tqdm.notebook.tqdm(range(N_neg)):\n",
        "    t = 0\n",
        "    chr, l, r = gen_part()\n",
        "    while (not segment_ok(chr, l, r)) or \"N\" in data[chr][l:r]:\n",
        "        chr, l, r = gen_part()\n",
        "    neg.append(data[chr][l:r])\n"
      ],
      "execution_count": 6,
      "outputs": [
        {
          "output_type": "display_data",
          "data": {
            "application/vnd.jupyter.widget-view+json": {
              "model_id": "6cc223a4791845d5958a2f3e2a84c984",
              "version_minor": 0,
              "version_major": 2
            },
            "text/plain": [
              "  0%|          | 0/55090 [00:00<?, ?it/s]"
            ]
          },
          "metadata": {}
        }
      ]
    },
    {
      "cell_type": "markdown",
      "metadata": {
        "id": "bQ5vHJSaf6Mu"
      },
      "source": [
        "Сделаем One-Hot encoding для полседовательности. Получим объект --- табличку размером 1000x4, в каждой строке ровно одна единица."
      ]
    },
    {
      "cell_type": "code",
      "metadata": {
        "id": "rpM6HH3JdLYW"
      },
      "source": [
        "import numpy as np\n",
        "from sklearn.metrics import f1_score\n",
        "\n",
        "def convertLines(lines):\n",
        "    newLines = np.zeros((len(lines), 4, len(lines[0])), dtype=int)\n",
        "    is_good = np.ones(len(lines), dtype=bool)\n",
        "    for i, line in enumerate(tqdm.notebook.tqdm(lines)):\n",
        "        for j, c in enumerate(line.strip()):\n",
        "            if c == 'A':\n",
        "                v = [1,0,0,0]\n",
        "            elif c == 'C':\n",
        "                v = [0,1,0,0]\n",
        "            elif c == 'G':\n",
        "                v = [0,0,1,0]\n",
        "            elif c == 'T':\n",
        "                v = [0,0,0,1]\n",
        "            else:\n",
        "                raise ValueError()\n",
        "            newLines[i, :, j] = np.array(v)\n",
        "    return newLines\n"
      ],
      "execution_count": 7,
      "outputs": []
    },
    {
      "cell_type": "markdown",
      "metadata": {
        "id": "9L9U6VcIgPT9"
      },
      "source": [
        "Разделим выборку на обучающую, валидационную и тестовую. Размер тренировочной сделаем 0.7, остальных --- по 0.15 от всего датасета."
      ]
    },
    {
      "cell_type": "code",
      "metadata": {
        "colab": {
          "base_uri": "https://localhost:8080/",
          "height": 151,
          "referenced_widgets": [
            "2543b73a38da48a783f5121e7ba002a0",
            "761b0301435e41c88d60153a2083fc58",
            "5f6e25948aae4e4c9fbadcef819d28f5",
            "9ec3aa9fa3cf488bbe349ddddda9e7a9",
            "99e0117c314640d8aec6bcbc3f7ba30b",
            "5ea2d35180884a43b30e8cb04537c3de",
            "92a2fa6b150847f0be82f2ea60af67b7",
            "9e8c86e5327f4c54a124d15ef7111888",
            "3b674256679c4508bc3bd841a39fb704",
            "5651308b12bf40238f4453f915d239af",
            "478d98ff27e241288bbc7a2f09a82240"
          ]
        },
        "id": "oyqSqC2hrzq8",
        "outputId": "f396e74e-ca3f-468f-f93e-98cecf3964cd"
      },
      "source": [
        "from sklearn.model_selection import train_test_split\n",
        "\n",
        "X = convertLines(pos + neg)\n",
        "y = np.array([1] * len(pos) + [0] * len(neg))\n",
        "\n",
        "X_train, X_val_test, y_train, y_val_test = train_test_split(X, y, shuffle=True, random_state=42, train_size=0.7)\n",
        "X_val, X_test, y_val, y_test = train_test_split(X_val_test, y_val_test, shuffle=True, random_state=42, test_size=0.5)\n",
        "X_train.shape, y_train.shape, X_val.shape, y_val.shape, X_test.shape, y_test.shape"
      ],
      "execution_count": 8,
      "outputs": [
        {
          "output_type": "display_data",
          "data": {
            "application/vnd.jupyter.widget-view+json": {
              "model_id": "2543b73a38da48a783f5121e7ba002a0",
              "version_minor": 0,
              "version_major": 2
            },
            "text/plain": [
              "  0%|          | 0/66108 [00:00<?, ?it/s]"
            ]
          },
          "metadata": {}
        },
        {
          "output_type": "execute_result",
          "data": {
            "text/plain": [
              "((46275, 4, 1000),\n",
              " (46275,),\n",
              " (9916, 4, 1000),\n",
              " (9916,),\n",
              " (9917, 4, 1000),\n",
              " (9917,))"
            ]
          },
          "metadata": {},
          "execution_count": 8
        }
      ]
    },
    {
      "cell_type": "markdown",
      "metadata": {
        "id": "2QGQAuC4geUR"
      },
      "source": [
        "Я решил использовать PyTorch, так как с ним знаком лучше из-за курсов по глубинному обучению. За основу для некоторого кода взял записи с семинаров по PyTorch-у.\n",
        "\n",
        "В этих ячейках определяю классы DataSet и Dataloader --- они помогают генерировать батчи для обучения сети."
      ]
    },
    {
      "cell_type": "code",
      "metadata": {
        "id": "XiEPGvGG1K1V"
      },
      "source": [
        "import torch\n",
        "import torchvision\n",
        "from torch import nn\n",
        "import matplotlib.pyplot as plt\n",
        "from torchvision import transforms, datasets\n",
        "\n",
        "\n",
        "class CustomDataset(torch.utils.data.Dataset):\n",
        "    def __init__(self, x, y):\n",
        "        self.x = x\n",
        "        self.y = y\n",
        "        \n",
        "    def preprocess(self, x):\n",
        "        a = torch.from_numpy(x).float()\n",
        "        return a\n",
        "\n",
        "    def __getitem__(self, idx):\n",
        "        return self.preprocess(self.x[idx]), self.y[idx]\n",
        "\n",
        "    def __len__(self,):\n",
        "        return len(self.x)\n",
        "\n",
        "train_dataset = CustomDataset(X_train, y_train)\n",
        "val_dataset = CustomDataset(X_val, y_val)\n",
        "test_dataset = CustomDataset(X_test, y_test)\n",
        "\n",
        "train_dataloader = torch.utils.data.DataLoader(train_dataset,\n",
        "                                    batch_size=256, shuffle=True,\n",
        "                                    num_workers=2)\n",
        "val_dataloader = torch.utils.data.DataLoader(val_dataset,\n",
        "                                    batch_size=512, shuffle=True,\n",
        "                                    num_workers=2)\n",
        "test_dataloader = torch.utils.data.DataLoader(test_dataset,\n",
        "                                    batch_size=512, shuffle=True,\n",
        "                                    num_workers=2)"
      ],
      "execution_count": 9,
      "outputs": []
    },
    {
      "cell_type": "markdown",
      "metadata": {
        "id": "CUlaCPBihFqO"
      },
      "source": [
        "Код для обучения одной эпохи, предсказания классов и полного обучения."
      ]
    },
    {
      "cell_type": "code",
      "metadata": {
        "id": "9blxyEBF05bG"
      },
      "source": [
        "\n",
        "def train_one_epoch(model, train_dataloader, criterion, optimizer, device=\"cuda:0\"):\n",
        "    model = model.to(device).train()\n",
        "    for (seq, labels) in train_dataloader:\n",
        "        seq, labels = seq.to(device), labels.to(device)\n",
        "        preds = model(seq)\n",
        "        loss = criterion(preds, labels)\n",
        "        loss.backward()\n",
        "        optimizer.step()\n",
        "        optimizer.zero_grad()\n",
        "\n",
        "def predict(model, test_dataloder, device=\"cuda:0\"):\n",
        "    model = model.to(device).eval()\n",
        "    predicted_classes = []\n",
        "    true_classes = []\n",
        "    with torch.no_grad():\n",
        "        for idx, (seq, labels) in enumerate((test_dataloder)): \n",
        "            seq, labels = seq.to(device), labels.to(device)\n",
        "            preds = model(seq)\n",
        "            predicted_classes.append(preds.argmax(1))\n",
        "            true_classes.append(labels)\n",
        "    predicted_classes = torch.cat(predicted_classes).flatten()\n",
        "    true_classes = torch.cat(true_classes).flatten()\n",
        "    return predicted_classes, true_classes\n",
        "\n",
        "\n",
        "def train(model, train_dataloader, val_dataloader, criterion, optimizer, device=\"cuda:0\", n_epochs=10, scheduler=None, model_path_dir=\"/tmp/model\"):\n",
        "    model.to(device)\n",
        "    print(\"EPOCHE\\t|TRAIN ACCURACY\\t|TRAIN F1_SCORE\\t| TEST_ACCURACY\\t| TEST F1_SCORE\")\n",
        "    print(\"-\" * 72)\n",
        "    train_history = []\n",
        "    max_val_f1 = -1\n",
        "    for epoch in range(1, n_epochs + 1):\n",
        "\n",
        "        train_one_epoch(model, train_dataloader, criterion, optimizer, device)\n",
        "        y_prd, y_true = predict(model, train_dataloader, device)\n",
        "        train_acc = (y_prd == y_true).float().mean().item()\n",
        "        train_f1 = f1_score(y_true.cpu(), y_prd.cpu())\n",
        "        y_prd, y_true = predict(model, val_dataloader, device)\n",
        "        val_acc = (y_prd == y_true).float().mean().item()\n",
        "        val_f1 = f1_score(y_true.cpu(), y_prd.cpu())\n",
        "        is_best_model = \"*\" if val_f1 > max_val_f1 else \"\"\n",
        "        print(f\"{epoch}\\t|     {train_acc:.4f}\\t|     {train_f1:.4f}\\t|     {val_acc:.4f}\\t|     {val_f1:.4f}  {is_best_model}\")\n",
        "        if scheduler is not None:\n",
        "            scheduler.step()\n",
        "        train_history.append((train_acc, train_f1, val_acc, val_f1))\n",
        "        if val_f1 > max_val_f1:\n",
        "            max_val_f1 = val_f1\n",
        "            model.save(model_path_dir)\n",
        "    return np.array(train_history)"
      ],
      "execution_count": 10,
      "outputs": []
    },
    {
      "cell_type": "markdown",
      "metadata": {
        "id": "yY0OAlGyhO1L"
      },
      "source": [
        "Модель взял не слишком сложную --- обычную последовательную модель с тремя блоками conv-maxpool. Число фильтров уменьшаю вглубь сети."
      ]
    },
    {
      "cell_type": "code",
      "metadata": {
        "id": "kHvsRkZNxVOc"
      },
      "source": [
        "import os\n",
        "\n",
        "class AlexeyNet(nn.Module):\n",
        "    def __init__(self):\n",
        "        super().__init__()\n",
        "\n",
        "        self.conv1 = AlexeyNet.convLayer(4, 16, 5)\n",
        "        self.bn1 = nn.BatchNorm1d(16)\n",
        "        self.pool1 = nn.MaxPool1d(5)\n",
        "        self.do1 = nn.Dropout(0.3)\n",
        "\n",
        "        self.conv2 = AlexeyNet.convLayer(16, 32, 5)\n",
        "        self.bn2 = nn.BatchNorm1d(32)\n",
        "        self.pool2 = nn.MaxPool1d(4)\n",
        "        self.do2 = nn.Dropout(0.4)\n",
        "\n",
        "        self.conv3 = AlexeyNet.convLayer(32, 64, 3)\n",
        "        self.bn3 = nn.BatchNorm1d(64)\n",
        "        self.pool3 = nn.MaxPool1d(2)\n",
        "\n",
        "        self.flatten = nn.Flatten()\n",
        "        \n",
        "        self.fc = nn.Linear(1600, 2)\n",
        "\n",
        "        \n",
        "    def forward(self, x):\n",
        "        out = self.conv1(x)\n",
        "        out = self.bn1(out)\n",
        "        out = self.pool1(out)\n",
        "        out = self.do1(out)\n",
        "\n",
        "        out = self.conv2(out)\n",
        "        out = self.bn2(out)\n",
        "        out = self.pool2(out)\n",
        "        out = self.do2(out)\n",
        "        \n",
        "        out = self.conv3(out)\n",
        "        out = self.bn3(out)\n",
        "        out = self.pool3(out)\n",
        "\n",
        "        out = self.flatten(out)\n",
        "\n",
        "        out = self.fc(out)\n",
        "        return out\n",
        "\n",
        "    @staticmethod\n",
        "    def convLayer(in_channels, out_channels, filter_width, zero_padding=True):\n",
        "        return nn.Sequential(\n",
        "            nn.Conv1d(\n",
        "                in_channels,\n",
        "                out_channels,\n",
        "                filter_width,\n",
        "                padding='same'\n",
        "            ),\n",
        "            nn.ReLU()\n",
        "        )\n",
        "\n",
        "    def save(self, path_dir=\"/tmp/model\"):\n",
        "        os.makedirs(path_dir, exist_ok=True)\n",
        "        torch.save(self.state_dict(), f\"{path_dir}/my_model.dict\")\n",
        "\n",
        "    def load(self, path_dir=\"/tmp/model\"):\n",
        "        self.load_state_dict(torch.load(f\"{path_dir}/my_model.dict\"))\n",
        "\n",
        "model = AlexeyNet()\n",
        "\n",
        "n_epochs = 30\n",
        "optimizer = torch.optim.Adam(model.parameters(), 1e-3)\n",
        "criterion = nn.CrossEntropyLoss()\n",
        "scheduler = torch.optim.lr_scheduler.StepLR(optimizer, step_size=3, gamma=0.9)\n",
        "device = torch.device(\"cuda:0\") if torch.cuda.is_available() else torch.device(\"cpu\")\n",
        "model_path_dir = \"/tmp/model\""
      ],
      "execution_count": 11,
      "outputs": []
    },
    {
      "cell_type": "markdown",
      "metadata": {
        "id": "ZK8GYUIthmAM"
      },
      "source": [
        "Запуск обучения."
      ]
    },
    {
      "cell_type": "code",
      "metadata": {
        "colab": {
          "base_uri": "https://localhost:8080/"
        },
        "id": "LEdctHSvCM9e",
        "outputId": "ce18ee35-034c-45cd-8ce7-25dda54c8f31"
      },
      "source": [
        "history = train(model, train_dataloader, val_dataloader, criterion, optimizer, device, n_epochs, scheduler, model_path_dir)"
      ],
      "execution_count": 12,
      "outputs": [
        {
          "output_type": "stream",
          "name": "stdout",
          "text": [
            "EPOCHE\t|TRAIN ACCURACY\t|TRAIN F1_SCORE\t| TEST_ACCURACY\t| TEST F1_SCORE\n",
            "------------------------------------------------------------------------\n",
            "1\t|     0.9084\t|     0.7731\t|     0.9000\t|     0.7596  *\n",
            "2\t|     0.9150\t|     0.7950\t|     0.9083\t|     0.7856  *\n",
            "3\t|     0.9054\t|     0.7775\t|     0.9021\t|     0.7749  \n",
            "4\t|     0.9278\t|     0.8207\t|     0.9210\t|     0.8102  *\n",
            "5\t|     0.9531\t|     0.8755\t|     0.9498\t|     0.8703  *\n",
            "6\t|     0.9476\t|     0.8632\t|     0.9411\t|     0.8512  \n",
            "7\t|     0.9716\t|     0.9206\t|     0.9705\t|     0.9192  *\n",
            "8\t|     0.9634\t|     0.9002\t|     0.9635\t|     0.9021  \n",
            "9\t|     0.9709\t|     0.9191\t|     0.9684\t|     0.9142  \n",
            "10\t|     0.9784\t|     0.9386\t|     0.9778\t|     0.9380  *\n",
            "11\t|     0.9735\t|     0.9256\t|     0.9717\t|     0.9223  \n",
            "12\t|     0.9838\t|     0.9530\t|     0.9826\t|     0.9505  *\n",
            "13\t|     0.9730\t|     0.9245\t|     0.9723\t|     0.9237  \n",
            "14\t|     0.9779\t|     0.9372\t|     0.9758\t|     0.9328  \n",
            "15\t|     0.9747\t|     0.9288\t|     0.9734\t|     0.9266  \n",
            "16\t|     0.9761\t|     0.9327\t|     0.9760\t|     0.9333  \n",
            "17\t|     0.9844\t|     0.9548\t|     0.9816\t|     0.9481  \n",
            "18\t|     0.9839\t|     0.9534\t|     0.9825\t|     0.9503  \n",
            "19\t|     0.9839\t|     0.9533\t|     0.9818\t|     0.9487  \n",
            "20\t|     0.9861\t|     0.9594\t|     0.9839\t|     0.9540  *\n",
            "21\t|     0.9852\t|     0.9569\t|     0.9826\t|     0.9504  \n",
            "22\t|     0.9842\t|     0.9543\t|     0.9817\t|     0.9483  \n",
            "23\t|     0.9860\t|     0.9592\t|     0.9837\t|     0.9535  \n",
            "24\t|     0.9830\t|     0.9510\t|     0.9806\t|     0.9455  \n",
            "25\t|     0.9831\t|     0.9512\t|     0.9796\t|     0.9428  \n",
            "26\t|     0.9753\t|     0.9305\t|     0.9741\t|     0.9285  \n",
            "27\t|     0.9880\t|     0.9649\t|     0.9848\t|     0.9565  *\n",
            "28\t|     0.9873\t|     0.9629\t|     0.9844\t|     0.9554  \n",
            "29\t|     0.9854\t|     0.9577\t|     0.9819\t|     0.9490  \n",
            "30\t|     0.9886\t|     0.9665\t|     0.9855\t|     0.9584  *\n"
          ]
        }
      ]
    },
    {
      "cell_type": "markdown",
      "metadata": {
        "id": "BN6NGdR4nIiX"
      },
      "source": [
        "Графики accuracy и f1_score на обучении:"
      ]
    },
    {
      "cell_type": "code",
      "metadata": {
        "id": "GaM2jq8JCkDk",
        "colab": {
          "base_uri": "https://localhost:8080/",
          "height": 350
        },
        "outputId": "a0e1871c-5ebd-46a6-ceb5-b5f91b92e9aa"
      },
      "source": [
        "fig, ax = plt.subplots(1, 2, figsize=(20, 5))\n",
        "ax[0].plot(history[:, 0], label=\"Train accuracy\")\n",
        "ax[0].plot(history[:, 2], label=\"Val accuracy\")\n",
        "ax[0].set_xlabel(\"Epoch\")\n",
        "ax[0].set_title(\"Accuracy on training\")\n",
        "ax[0].legend()\n",
        "\n",
        "ax[1].plot(history[:, 1], label=\"Train F1\")\n",
        "ax[1].plot(history[:, 3], label=\"Val F1\")\n",
        "ax[1].set_xlabel(\"Epoch\")\n",
        "ax[1].set_title(\"F1 on training\")\n",
        "ax[1].legend();"
      ],
      "execution_count": 13,
      "outputs": [
        {
          "output_type": "display_data",
          "data": {
            "image/png": "[encoded data removed]",
            "text/plain": [
              "<Figure size 1440x360 with 2 Axes>"
            ]
          },
          "metadata": {
            "needs_background": "light"
          }
        }
      ]
    },
    {
      "cell_type": "markdown",
      "metadata": {
        "id": "hDaDbi4PnOIt"
      },
      "source": [
        "Итоговое качество:"
      ]
    },
    {
      "cell_type": "code",
      "metadata": {
        "colab": {
          "base_uri": "https://localhost:8080/"
        },
        "id": "DHjrzgHgTiY9",
        "outputId": "77f5de8f-b45f-476e-c038-6e2a27179313"
      },
      "source": [
        "print(\"Last epoch model:\")\n",
        "y_pred, y_true = predict(model, test_dataloader, device)\n",
        "print(f\"Test accuracy: {(y_pred == y_true).float().mean().item():.4f}\")\n",
        "print(f\"Test f1_score: {f1_score(y_true.cpu(), y_pred.cpu()):.4f}\")"
      ],
      "execution_count": 14,
      "outputs": [
        {
          "output_type": "stream",
          "name": "stdout",
          "text": [
            "Last epoch model:\n",
            "Test accuracy: 0.9861\n",
            "Test f1_score: 0.9582\n"
          ]
        }
      ]
    },
    {
      "cell_type": "code",
      "metadata": {
        "id": "ut2C8qhgmsU7",
        "colab": {
          "base_uri": "https://localhost:8080/"
        },
        "outputId": "51405ab2-7399-4033-e38e-ca9ad33a5dd9"
      },
      "source": [
        "print(\"Best model:\")\n",
        "model.load(model_path_dir)\n",
        "y_pred, y_true = predict(model, test_dataloader, device)\n",
        "print(f\"Test accuracy: {(y_pred == y_true).float().mean().item():.4f}\")\n",
        "print(f\"Test f1_score: {f1_score(y_true.cpu(), y_pred.cpu()):.4f}\")"
      ],
      "execution_count": 15,
      "outputs": [
        {
          "output_type": "stream",
          "name": "stdout",
          "text": [
            "Best model:\n",
            "Test accuracy: 0.9861\n",
            "Test f1_score: 0.9582\n"
          ]
        }
      ]
    },
    {
      "cell_type": "code",
      "metadata": {
        "id": "G6kFJtczp3US"
      },
      "source": [
        ""
      ],
      "execution_count": 15,
      "outputs": []
    }
  ]
}